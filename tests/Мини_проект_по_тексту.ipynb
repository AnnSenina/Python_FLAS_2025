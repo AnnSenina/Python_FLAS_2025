{
  "nbformat": 4,
  "nbformat_minor": 0,
  "metadata": {
    "colab": {
      "provenance": [],
      "authorship_tag": "ABX9TyMorvL+DcwRe9gQx/BLaWyG",
      "include_colab_link": true
    },
    "kernelspec": {
      "name": "python3",
      "display_name": "Python 3"
    },
    "language_info": {
      "name": "python"
    }
  },
  "cells": [
    {
      "cell_type": "markdown",
      "metadata": {
        "id": "view-in-github",
        "colab_type": "text"
      },
      "source": [
        "<a href=\"https://colab.research.google.com/github/AnnSenina/Python_FLAS_2025/blob/main/tests/%D0%9C%D0%B8%D0%BD%D0%B8_%D0%BF%D1%80%D0%BE%D0%B5%D0%BA%D1%82_%D0%BF%D0%BE_%D1%82%D0%B5%D0%BA%D1%81%D1%82%D1%83.ipynb\" target=\"_parent\"><img src=\"https://colab.research.google.com/assets/colab-badge.svg\" alt=\"Open In Colab\"/></a>"
      ]
    },
    {
      "cell_type": "markdown",
      "source": [
        "# Задание по текстовому блоку\n",
        "\n",
        "**Дедлайн: 20 апреля**\n",
        "\n",
        "Загружаем ответ [сюда](https://forms.gle/G4YTcVG6E4WW8Bny7)"
      ],
      "metadata": {
        "id": "GMhqYKDF_wMc"
      }
    },
    {
      "cell_type": "code",
      "execution_count": 2,
      "metadata": {
        "id": "0QsSEYue_soE"
      },
      "outputs": [],
      "source": [
        "# читаем файлы:\n",
        "\n",
        "import os\n",
        "\n",
        "corpus = []\n",
        "titles = [] # если они вам нужны\n",
        "\n",
        "for i in os.listdir():\n",
        "  if '.txt' in i:\n",
        "    titles.append(i)\n",
        "    with open(i, 'r', encoding='utf-8') as f:\n",
        "      text = f.read()\n",
        "      corpus.append(text)"
      ]
    },
    {
      "cell_type": "markdown",
      "source": [
        "### Задания с разбалловкой:\n",
        "\n",
        "1. до 10 баллов - препроцессинг и лемматизация каждого текста (любым способом и любым лемматизатором на ваш выбор). На выходе тексты должны быть чистыми - все слова в нижнем регистре, нет стоп-слов и пунктуации, слова приведены к начальной форме(можете сохранить чистые тексты строками / списками - на ваш выбор)\n",
        "\n",
        "2. сравнение абсолютных частот - в виде облаков частотных слов (до 5 баллов, 5 текстов = 5 облаков) и топ-5 частотных биграмм **со словом море** (до 5 баллов) - вам надо получить частоты, в идеале - отсортировать и выполнить проверку вхождения слова **море**\n",
        "\n",
        "3. до 5 баллов - текстовый вывод о результатах анализа (можно ли, основываясь на частотах, сделать выводы о текстах: ключевые темы, стиль, жанр, есть ли тексты, которые близки между собой и т.д.)\n",
        "\n",
        "4. до 5 баллов - извлечение ключевых слов с помощью tf-idf\n",
        "\n",
        "Любые дополнения, не указанные в задании, приветствуются (и могут повысть балл при наличии ошибок)"
      ],
      "metadata": {
        "id": "FX9ubadkAbKT"
      }
    },
    {
      "cell_type": "code",
      "source": [],
      "metadata": {
        "id": "TgBf0HVzCfID"
      },
      "execution_count": null,
      "outputs": []
    },
    {
      "cell_type": "code",
      "source": [],
      "metadata": {
        "id": "iYh11Q4gCe8K"
      },
      "execution_count": null,
      "outputs": []
    },
    {
      "cell_type": "code",
      "source": [],
      "metadata": {
        "id": "PTmuFdP_Ce2V"
      },
      "execution_count": null,
      "outputs": []
    },
    {
      "cell_type": "code",
      "source": [],
      "metadata": {
        "id": "BVZiQaeeCevF"
      },
      "execution_count": null,
      "outputs": []
    },
    {
      "cell_type": "code",
      "source": [],
      "metadata": {
        "id": "aBeySXnvCeRU"
      },
      "execution_count": null,
      "outputs": []
    }
  ]
}