{
  "nbformat": 4,
  "nbformat_minor": 0,
  "metadata": {
    "colab": {
      "provenance": [],
      "authorship_tag": "ABX9TyOCg/RnU5RgIigf8oZbYJyc",
      "include_colab_link": true
    },
    "kernelspec": {
      "name": "python3",
      "display_name": "Python 3"
    },
    "language_info": {
      "name": "python"
    }
  },
  "cells": [
    {
      "cell_type": "markdown",
      "metadata": {
        "id": "view-in-github",
        "colab_type": "text"
      },
      "source": [
        "<a href=\"https://colab.research.google.com/github/AnnSenina/Python_FLAS_2025/blob/main/tests/task_3__EDA.ipynb\" target=\"_parent\"><img src=\"https://colab.research.google.com/assets/colab-badge.svg\" alt=\"Open In Colab\"/></a>"
      ]
    },
    {
      "cell_type": "markdown",
      "source": [
        "# Домашнее задание\n",
        "\n",
        "- найти интересующий вас набор данных для анализа (**5 баллов**). Ресурсы для поиска данных [здесь](https://github.com/AnnSenina/Python_FLAS_2025/blob/main/notebooks/search_data.md)\n",
        "\n",
        "(Если вы возьмете выбранный мной набор данных, максимальная оценка за работу составит 25 баллов)\n",
        "\n",
        "Каждый пункт ниже оценивается в **5 баллов**:\n",
        "\n",
        "1. изменить тип данных в pandas, перекодировать переменные, **если требуется**: например:\n",
        "    - если pandas некорректно определил числовые переменные;\n",
        "    - если текстовые - по сути, являются категориальными, т.е. содержат не уникальные названия, а повторяющиеся характеристики;\n",
        "    - если в данных есть переменные, которые требуют порядковой шкалы \"лучше\" - \"хуже\"\n",
        "2. проверить наличие пропусков (если они есть - удалить / заполнить)\n",
        "3. проверить данные на выбросы (хотя бы просто понять, где выбросы есть - можно пойти дальше и пофильтровать их, но только в том случае, если их немного; иначе - игнорируем)\n",
        "4. посмотреть описательные статистики (и для количественных, и для категориальных переменных) и построить не менее 3 графиков на ваш вкус (описательные статистики помогут сделать выбор)\n",
        "5. *(опционально, если вы захотели поработать с предложенным мной датасетом, но не хотите снижения на 5 баллов - тогда можно добавить что-то еще в этот план работ: стандартизацию, позже - корреляцию и т.д.)*\n",
        "\n",
        "Анализ данных, в том числе, разведочный - это процесс принятия решений. Документирование ваших решений дает еще **5 баллов**.\n",
        "\n",
        "Например:\n",
        "```# пропусков нет, ничего не требуется```\n",
        "\n",
        "ИЛИ:\n",
        "\n",
        "```# пропусков очень много, но только по столбцу с уникальными названиями Х, потенциально не интересному для анализа -> запонить невозможно, проигнорируем пропуски```\n",
        "\n",
        "Набор данных для анализа: проекты на [Kickstarter](https://www.kaggle.com/datasets/kemical/kickstarter-projects) (платформа Kaggle требует регистрации, а на GitHub залить не могу - файл большой, поэтому пришлю в наш чат после пары)\n",
        "\n",
        "Пример выполнения задания (без п. 4) есть [здесь](https://github.com/AnnSenina/python_hse_2024/blob/main/notebooks/%D0%9F%D1%80%D0%B8%D0%BC%D0%B5%D1%80_%D1%80%D0%B5%D1%88%D0%B5%D0%BD%D0%B8%D1%8F.ipynb)\n",
        "\n",
        "\n"
      ],
      "metadata": {
        "id": "P4hykKkYCgTj"
      }
    },
    {
      "cell_type": "code",
      "execution_count": null,
      "metadata": {
        "id": "iPrK1N4pCcr7"
      },
      "outputs": [],
      "source": [
        "import pandas as pd\n",
        "df = pd.read_csv('ваш_датасет.csv')\n",
        "df"
      ]
    },
    {
      "cell_type": "code",
      "source": [],
      "metadata": {
        "id": "oe-7UmoeEdPg"
      },
      "execution_count": null,
      "outputs": []
    },
    {
      "cell_type": "code",
      "source": [],
      "metadata": {
        "id": "WC88RuMBEdG4"
      },
      "execution_count": null,
      "outputs": []
    },
    {
      "cell_type": "code",
      "source": [],
      "metadata": {
        "id": "jLiRXae8EdEF"
      },
      "execution_count": null,
      "outputs": []
    }
  ]
}
