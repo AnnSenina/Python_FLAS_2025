{
  "nbformat": 4,
  "nbformat_minor": 0,
  "metadata": {
    "colab": {
      "provenance": [],
      "include_colab_link": true
    },
    "kernelspec": {
      "name": "python3",
      "display_name": "Python 3"
    },
    "language_info": {
      "name": "python"
    }
  },
  "cells": [
    {
      "cell_type": "markdown",
      "metadata": {
        "id": "view-in-github",
        "colab_type": "text"
      },
      "source": [
        "<a href=\"https://colab.research.google.com/github/AnnSenina/Python_FLAS_2025/blob/main/notebooks/%D0%9B%D0%B5%D0%BC%D0%BC%D0%B0%D1%82%D0%B8%D0%B7%D0%B0%D1%86%D0%B8%D1%8F_%2B_pandas_%D0%BF%D1%80%D0%B0%D0%BA%D1%82%D0%B8%D0%BA%D0%B0_FLAS.ipynb\" target=\"_parent\"><img src=\"https://colab.research.google.com/assets/colab-badge.svg\" alt=\"Open In Colab\"/></a>"
      ]
    },
    {
      "cell_type": "markdown",
      "source": [
        "# Задание\n",
        "\n",
        "Леммы + pandas\n",
        "\n",
        "Ниже я скопировала: импорты, стоп-слова на русском, функцию по лемматизации русского"
      ],
      "metadata": {
        "id": "hDzfne6dvFGk"
      }
    },
    {
      "cell_type": "code",
      "source": [
        "import pandas as pd\n",
        "from collections import Counter\n",
        "\n",
        "from pymystem3 import Mystem\n",
        "mystem = Mystem()\n",
        "\n",
        "import nltk\n",
        "from nltk import download\n",
        "download('stopwords')\n",
        "from nltk.corpus import stopwords\n",
        "ru_stop_words = stopwords.words('russian')\n",
        "\n",
        "def lemm_mystem(text):\n",
        "  lemm = mystem.lemmatize(text)\n",
        "  lemm_clean = [word for word in lemm if word not in ru_stop_words and word[0].isalpha()]\n",
        "  return lemm_clean"
      ],
      "metadata": {
        "id": "aFZ7FEcvwiXf"
      },
      "execution_count": null,
      "outputs": []
    },
    {
      "cell_type": "code",
      "source": [
        "text = 'Счастливые часов не наблюдают'.split()\n",
        "\n",
        "words = pd.DataFrame(text, columns = ['слово'])\n",
        "words"
      ],
      "metadata": {
        "id": "664sV87TTwnF",
        "colab": {
          "base_uri": "https://localhost:8080/",
          "height": 175
        },
        "outputId": "041900ac-1f82-4257-b71c-208b5ce83845"
      },
      "execution_count": null,
      "outputs": [
        {
          "output_type": "execute_result",
          "data": {
            "text/plain": [
              "        слово\n",
              "0  Счастливые\n",
              "1       часов\n",
              "2          не\n",
              "3   наблюдают"
            ],
            "text/html": [
              "\n",
              "  <div id=\"df-979363dd-f0b8-46f0-a05c-1485ba8ee544\" class=\"colab-df-container\">\n",
              "    <div>\n",
              "<style scoped>\n",
              "    .dataframe tbody tr th:only-of-type {\n",
              "        vertical-align: middle;\n",
              "    }\n",
              "\n",
              "    .dataframe tbody tr th {\n",
              "        vertical-align: top;\n",
              "    }\n",
              "\n",
              "    .dataframe thead th {\n",
              "        text-align: right;\n",
              "    }\n",
              "</style>\n",
              "<table border=\"1\" class=\"dataframe\">\n",
              "  <thead>\n",
              "    <tr style=\"text-align: right;\">\n",
              "      <th></th>\n",
              "      <th>слово</th>\n",
              "    </tr>\n",
              "  </thead>\n",
              "  <tbody>\n",
              "    <tr>\n",
              "      <th>0</th>\n",
              "      <td>Счастливые</td>\n",
              "    </tr>\n",
              "    <tr>\n",
              "      <th>1</th>\n",
              "      <td>часов</td>\n",
              "    </tr>\n",
              "    <tr>\n",
              "      <th>2</th>\n",
              "      <td>не</td>\n",
              "    </tr>\n",
              "    <tr>\n",
              "      <th>3</th>\n",
              "      <td>наблюдают</td>\n",
              "    </tr>\n",
              "  </tbody>\n",
              "</table>\n",
              "</div>\n",
              "    <div class=\"colab-df-buttons\">\n",
              "\n",
              "  <div class=\"colab-df-container\">\n",
              "    <button class=\"colab-df-convert\" onclick=\"convertToInteractive('df-979363dd-f0b8-46f0-a05c-1485ba8ee544')\"\n",
              "            title=\"Convert this dataframe to an interactive table.\"\n",
              "            style=\"display:none;\">\n",
              "\n",
              "  <svg xmlns=\"http://www.w3.org/2000/svg\" height=\"24px\" viewBox=\"0 -960 960 960\">\n",
              "    <path d=\"M120-120v-720h720v720H120Zm60-500h600v-160H180v160Zm220 220h160v-160H400v160Zm0 220h160v-160H400v160ZM180-400h160v-160H180v160Zm440 0h160v-160H620v160ZM180-180h160v-160H180v160Zm440 0h160v-160H620v160Z\"/>\n",
              "  </svg>\n",
              "    </button>\n",
              "\n",
              "  <style>\n",
              "    .colab-df-container {\n",
              "      display:flex;\n",
              "      gap: 12px;\n",
              "    }\n",
              "\n",
              "    .colab-df-convert {\n",
              "      background-color: #E8F0FE;\n",
              "      border: none;\n",
              "      border-radius: 50%;\n",
              "      cursor: pointer;\n",
              "      display: none;\n",
              "      fill: #1967D2;\n",
              "      height: 32px;\n",
              "      padding: 0 0 0 0;\n",
              "      width: 32px;\n",
              "    }\n",
              "\n",
              "    .colab-df-convert:hover {\n",
              "      background-color: #E2EBFA;\n",
              "      box-shadow: 0px 1px 2px rgba(60, 64, 67, 0.3), 0px 1px 3px 1px rgba(60, 64, 67, 0.15);\n",
              "      fill: #174EA6;\n",
              "    }\n",
              "\n",
              "    .colab-df-buttons div {\n",
              "      margin-bottom: 4px;\n",
              "    }\n",
              "\n",
              "    [theme=dark] .colab-df-convert {\n",
              "      background-color: #3B4455;\n",
              "      fill: #D2E3FC;\n",
              "    }\n",
              "\n",
              "    [theme=dark] .colab-df-convert:hover {\n",
              "      background-color: #434B5C;\n",
              "      box-shadow: 0px 1px 3px 1px rgba(0, 0, 0, 0.15);\n",
              "      filter: drop-shadow(0px 1px 2px rgba(0, 0, 0, 0.3));\n",
              "      fill: #FFFFFF;\n",
              "    }\n",
              "  </style>\n",
              "\n",
              "    <script>\n",
              "      const buttonEl =\n",
              "        document.querySelector('#df-979363dd-f0b8-46f0-a05c-1485ba8ee544 button.colab-df-convert');\n",
              "      buttonEl.style.display =\n",
              "        google.colab.kernel.accessAllowed ? 'block' : 'none';\n",
              "\n",
              "      async function convertToInteractive(key) {\n",
              "        const element = document.querySelector('#df-979363dd-f0b8-46f0-a05c-1485ba8ee544');\n",
              "        const dataTable =\n",
              "          await google.colab.kernel.invokeFunction('convertToInteractive',\n",
              "                                                    [key], {});\n",
              "        if (!dataTable) return;\n",
              "\n",
              "        const docLinkHtml = 'Like what you see? Visit the ' +\n",
              "          '<a target=\"_blank\" href=https://colab.research.google.com/notebooks/data_table.ipynb>data table notebook</a>'\n",
              "          + ' to learn more about interactive tables.';\n",
              "        element.innerHTML = '';\n",
              "        dataTable['output_type'] = 'display_data';\n",
              "        await google.colab.output.renderOutput(dataTable, element);\n",
              "        const docLink = document.createElement('div');\n",
              "        docLink.innerHTML = docLinkHtml;\n",
              "        element.appendChild(docLink);\n",
              "      }\n",
              "    </script>\n",
              "  </div>\n",
              "\n",
              "\n",
              "<div id=\"df-d2500795-b210-40bb-8ab8-4c20b5282dd7\">\n",
              "  <button class=\"colab-df-quickchart\" onclick=\"quickchart('df-d2500795-b210-40bb-8ab8-4c20b5282dd7')\"\n",
              "            title=\"Suggest charts\"\n",
              "            style=\"display:none;\">\n",
              "\n",
              "<svg xmlns=\"http://www.w3.org/2000/svg\" height=\"24px\"viewBox=\"0 0 24 24\"\n",
              "     width=\"24px\">\n",
              "    <g>\n",
              "        <path d=\"M19 3H5c-1.1 0-2 .9-2 2v14c0 1.1.9 2 2 2h14c1.1 0 2-.9 2-2V5c0-1.1-.9-2-2-2zM9 17H7v-7h2v7zm4 0h-2V7h2v10zm4 0h-2v-4h2v4z\"/>\n",
              "    </g>\n",
              "</svg>\n",
              "  </button>\n",
              "\n",
              "<style>\n",
              "  .colab-df-quickchart {\n",
              "      --bg-color: #E8F0FE;\n",
              "      --fill-color: #1967D2;\n",
              "      --hover-bg-color: #E2EBFA;\n",
              "      --hover-fill-color: #174EA6;\n",
              "      --disabled-fill-color: #AAA;\n",
              "      --disabled-bg-color: #DDD;\n",
              "  }\n",
              "\n",
              "  [theme=dark] .colab-df-quickchart {\n",
              "      --bg-color: #3B4455;\n",
              "      --fill-color: #D2E3FC;\n",
              "      --hover-bg-color: #434B5C;\n",
              "      --hover-fill-color: #FFFFFF;\n",
              "      --disabled-bg-color: #3B4455;\n",
              "      --disabled-fill-color: #666;\n",
              "  }\n",
              "\n",
              "  .colab-df-quickchart {\n",
              "    background-color: var(--bg-color);\n",
              "    border: none;\n",
              "    border-radius: 50%;\n",
              "    cursor: pointer;\n",
              "    display: none;\n",
              "    fill: var(--fill-color);\n",
              "    height: 32px;\n",
              "    padding: 0;\n",
              "    width: 32px;\n",
              "  }\n",
              "\n",
              "  .colab-df-quickchart:hover {\n",
              "    background-color: var(--hover-bg-color);\n",
              "    box-shadow: 0 1px 2px rgba(60, 64, 67, 0.3), 0 1px 3px 1px rgba(60, 64, 67, 0.15);\n",
              "    fill: var(--button-hover-fill-color);\n",
              "  }\n",
              "\n",
              "  .colab-df-quickchart-complete:disabled,\n",
              "  .colab-df-quickchart-complete:disabled:hover {\n",
              "    background-color: var(--disabled-bg-color);\n",
              "    fill: var(--disabled-fill-color);\n",
              "    box-shadow: none;\n",
              "  }\n",
              "\n",
              "  .colab-df-spinner {\n",
              "    border: 2px solid var(--fill-color);\n",
              "    border-color: transparent;\n",
              "    border-bottom-color: var(--fill-color);\n",
              "    animation:\n",
              "      spin 1s steps(1) infinite;\n",
              "  }\n",
              "\n",
              "  @keyframes spin {\n",
              "    0% {\n",
              "      border-color: transparent;\n",
              "      border-bottom-color: var(--fill-color);\n",
              "      border-left-color: var(--fill-color);\n",
              "    }\n",
              "    20% {\n",
              "      border-color: transparent;\n",
              "      border-left-color: var(--fill-color);\n",
              "      border-top-color: var(--fill-color);\n",
              "    }\n",
              "    30% {\n",
              "      border-color: transparent;\n",
              "      border-left-color: var(--fill-color);\n",
              "      border-top-color: var(--fill-color);\n",
              "      border-right-color: var(--fill-color);\n",
              "    }\n",
              "    40% {\n",
              "      border-color: transparent;\n",
              "      border-right-color: var(--fill-color);\n",
              "      border-top-color: var(--fill-color);\n",
              "    }\n",
              "    60% {\n",
              "      border-color: transparent;\n",
              "      border-right-color: var(--fill-color);\n",
              "    }\n",
              "    80% {\n",
              "      border-color: transparent;\n",
              "      border-right-color: var(--fill-color);\n",
              "      border-bottom-color: var(--fill-color);\n",
              "    }\n",
              "    90% {\n",
              "      border-color: transparent;\n",
              "      border-bottom-color: var(--fill-color);\n",
              "    }\n",
              "  }\n",
              "</style>\n",
              "\n",
              "  <script>\n",
              "    async function quickchart(key) {\n",
              "      const quickchartButtonEl =\n",
              "        document.querySelector('#' + key + ' button');\n",
              "      quickchartButtonEl.disabled = true;  // To prevent multiple clicks.\n",
              "      quickchartButtonEl.classList.add('colab-df-spinner');\n",
              "      try {\n",
              "        const charts = await google.colab.kernel.invokeFunction(\n",
              "            'suggestCharts', [key], {});\n",
              "      } catch (error) {\n",
              "        console.error('Error during call to suggestCharts:', error);\n",
              "      }\n",
              "      quickchartButtonEl.classList.remove('colab-df-spinner');\n",
              "      quickchartButtonEl.classList.add('colab-df-quickchart-complete');\n",
              "    }\n",
              "    (() => {\n",
              "      let quickchartButtonEl =\n",
              "        document.querySelector('#df-d2500795-b210-40bb-8ab8-4c20b5282dd7 button');\n",
              "      quickchartButtonEl.style.display =\n",
              "        google.colab.kernel.accessAllowed ? 'block' : 'none';\n",
              "    })();\n",
              "  </script>\n",
              "</div>\n",
              "    </div>\n",
              "  </div>\n"
            ],
            "application/vnd.google.colaboratory.intrinsic+json": {
              "type": "dataframe",
              "variable_name": "words",
              "summary": "{\n  \"name\": \"words\",\n  \"rows\": 4,\n  \"fields\": [\n    {\n      \"column\": \"\\u0441\\u043b\\u043e\\u0432\\u043e\",\n      \"properties\": {\n        \"dtype\": \"string\",\n        \"num_unique_values\": 4,\n        \"samples\": [\n          \"\\u0447\\u0430\\u0441\\u043e\\u0432\",\n          \"\\u043d\\u0430\\u0431\\u043b\\u044e\\u0434\\u0430\\u044e\\u0442\",\n          \"\\u0421\\u0447\\u0430\\u0441\\u0442\\u043b\\u0438\\u0432\\u044b\\u0435\"\n        ],\n        \"semantic_type\": \"\",\n        \"description\": \"\"\n      }\n    }\n  ]\n}"
            }
          },
          "metadata": {},
          "execution_count": 27
        }
      ]
    },
    {
      "cell_type": "markdown",
      "source": [
        "- используйте конструкцию ```words['слово'].apply(очевидная_функция)```, чтобы посчитать длину текста (слова) в символах. Добавьте новый столбец с длиной слова в таблицу (столбец добавляется так же, как ключ в словарь)\n",
        "- Добавьте новый столбец, где этот же текст будет приведен в нижний регистр (.lower() - метод, в apply его можно поместить как str.lower или через lambda функцию)\n",
        "- Добавьте новый столбец, где будут леммы от этих слов (в конструкции ```words['слово'].apply(некая_функция)``` - эта функция должна уметь лемматизировать)"
      ],
      "metadata": {
        "id": "LcuoNAYUUGuG"
      }
    },
    {
      "cell_type": "code",
      "source": [],
      "metadata": {
        "id": "PeI01wixwiU8"
      },
      "execution_count": null,
      "outputs": []
    },
    {
      "cell_type": "code",
      "source": [],
      "metadata": {
        "id": "sEr7kzT9wiSU"
      },
      "execution_count": null,
      "outputs": []
    },
    {
      "cell_type": "code",
      "source": [],
      "metadata": {
        "id": "c9gsJcfCgzSP"
      },
      "execution_count": null,
      "outputs": []
    },
    {
      "cell_type": "markdown",
      "source": [
        "Возможное решение ниже:"
      ],
      "metadata": {
        "id": "YUG4Lmm_UP3b"
      }
    },
    {
      "cell_type": "code",
      "source": [
        "# @title\n",
        "words['длина'] = words['слово'].apply(len)\n",
        "words"
      ],
      "metadata": {
        "cellView": "form",
        "id": "toNTM-4tUR77"
      },
      "execution_count": null,
      "outputs": []
    },
    {
      "cell_type": "code",
      "source": [
        "# @title\n",
        "words['регистр'] = words['слово'].apply(str.lower)\n",
        "# words['регистр'] = words['слово'].apply(lambda x: x.lower()) # аналогично\n",
        "words"
      ],
      "metadata": {
        "id": "O2VeQeLrUXaS",
        "cellView": "form"
      },
      "execution_count": null,
      "outputs": []
    },
    {
      "cell_type": "code",
      "source": [
        "# @title\n",
        "# чуть хуже:\n",
        "words['леммы'] = words['слово'].apply(lemm_mystem)\n",
        "\n",
        "# чуть лучше:\n",
        "words['леммы'] = words['слово'].apply(lambda x: ' '.join(lemm_mystem(x)))\n",
        "words"
      ],
      "metadata": {
        "cellView": "form",
        "id": "usNxWZdAUkCt"
      },
      "execution_count": null,
      "outputs": []
    },
    {
      "cell_type": "markdown",
      "source": [
        "Соберите 3 разных датафрейма из текста ниже:\n",
        "- нарежьте текст ниже по ```\\n``` и соберите датафрейм из одного столбца (в ячейках - строки). К этой таблице добавьте столбец, где текст будет минимально предобработан: приведен к нижнему регистру, удалена пунктуация\n",
        "- лемматизируйте текст, получив список лемм, и соберите датафрейм из одного столбца (в ячейках - леммы). Затем выберите этот столбец и используйте ```.value_counts()```\n",
        "- Передайте текст / леммы в Counter и соберите датафрейм из словаря (есть несколько способов, используйте один любой - для частотного словаря самый оптимальный через ```Counter(ваш_список_лемм).items()```)"
      ],
      "metadata": {
        "id": "3xnI1JEaVrcg"
      }
    },
    {
      "cell_type": "code",
      "source": [
        "text = '''Служить бы рад, прислуживаться тошно\n",
        "И дым Отечества нам сладок и приятен!\n",
        "А судьи кто?\n",
        " — Где ж лучше? — Где нас нет\n",
        " — Чины людьми даются, — А люди могут обмануться\n",
        "Счастливые часов не наблюдают'''"
      ],
      "metadata": {
        "id": "O9NfJJMLVuew"
      },
      "execution_count": null,
      "outputs": []
    },
    {
      "cell_type": "code",
      "source": [],
      "metadata": {
        "id": "RSfMkHoMttRu"
      },
      "execution_count": null,
      "outputs": []
    },
    {
      "cell_type": "code",
      "source": [],
      "metadata": {
        "id": "jnFB62gBttKz"
      },
      "execution_count": null,
      "outputs": []
    },
    {
      "cell_type": "code",
      "source": [],
      "metadata": {
        "id": "jMzQgfu8ttGk"
      },
      "execution_count": null,
      "outputs": []
    },
    {
      "cell_type": "markdown",
      "source": [
        "Возможное решение"
      ],
      "metadata": {
        "id": "QT5XDC_5V4MT"
      }
    },
    {
      "cell_type": "code",
      "source": [
        "# @title\n",
        "df1 = pd.DataFrame(text.split('\\n'), columns=['текст'])\n",
        "df1"
      ],
      "metadata": {
        "id": "9Mr2nW2hV61h",
        "cellView": "form"
      },
      "execution_count": null,
      "outputs": []
    },
    {
      "cell_type": "code",
      "source": [
        "# @title\n",
        "lemm = lemm_mystem(text)\n",
        "\n",
        "df2 = pd.DataFrame(lemm, columns=['леммы'])\n",
        "df2.value_counts()"
      ],
      "metadata": {
        "id": "WNA202eBWQKJ",
        "cellView": "form"
      },
      "execution_count": null,
      "outputs": []
    },
    {
      "cell_type": "code",
      "source": [
        "# @title\n",
        "Counter(lemm_mystem(text)).items() # словарь в удобном виде для создания таблицы\n",
        "df3 = pd.DataFrame(Counter(lemm_mystem(text)).items(), columns=['леммы', 'частота'])\n",
        "df3\n",
        "# результат аналогичен df2))"
      ],
      "metadata": {
        "id": "GBciIkmXWRNf",
        "cellView": "form"
      },
      "execution_count": null,
      "outputs": []
    },
    {
      "cell_type": "markdown",
      "source": [
        "Предположим, что у нас есть вердикт модели dostoevsky о том, позитивный у нас текст или нет:"
      ],
      "metadata": {
        "id": "9OPeaRExXkgm"
      }
    },
    {
      "cell_type": "code",
      "source": [
        "my_list = [\n",
        "    ['Служить бы рад, прислуживаться тошно',\t0.16,\t0.03,\t0.07, 'neutral'],\n",
        "    ['И дым Отечества нам сладок и приятен!',\t0.00,\t0.07,\t0.97,\t'positive'],\n",
        "    ['А судьи кто?',\t0.97,\t0.03,\t0.00,\t'neutral'],\n",
        "    ['— Где ж лучше? — Где нас нет',\t1.00,\t0.00,\t0.00,\t'neutral'],\n",
        "    ['— Чины людьми даются, — А люди могут обмануться',\t0.56,\t0.18,\t0.07,\t'neutral']\n",
        "]"
      ],
      "metadata": {
        "id": "74DOvHLjXbGQ"
      },
      "execution_count": null,
      "outputs": []
    },
    {
      "cell_type": "markdown",
      "source": [
        "- соберите данные в датафрейм\n",
        "- заголовками сделайте: ```['text',\t'neutral',\t'negative',\t'positive',\t'result']```\n",
        "- добавьте столбец с леммами (по столбцу text)\n",
        "- отфильруйте только нейтральные тексты по столбцу `result`"
      ],
      "metadata": {
        "id": "kHtsmWcgXqrn"
      }
    },
    {
      "cell_type": "code",
      "source": [],
      "metadata": {
        "id": "Xr_FG9jWtv7L"
      },
      "execution_count": null,
      "outputs": []
    },
    {
      "cell_type": "code",
      "source": [],
      "metadata": {
        "id": "jMGb_uLNtv4p"
      },
      "execution_count": null,
      "outputs": []
    },
    {
      "cell_type": "code",
      "source": [],
      "metadata": {
        "id": "esNeheBZtv2J"
      },
      "execution_count": null,
      "outputs": []
    },
    {
      "cell_type": "markdown",
      "source": [
        "Возможное решение"
      ],
      "metadata": {
        "id": "k7Tag8nGXyET"
      }
    },
    {
      "cell_type": "code",
      "source": [
        "# @title\n",
        "df = pd.DataFrame(my_list, columns=['text', 'neutral', 'negative', 'positive', 'result'])\n",
        "df"
      ],
      "metadata": {
        "id": "a6seVAVMX0R9",
        "cellView": "form"
      },
      "execution_count": null,
      "outputs": []
    },
    {
      "cell_type": "code",
      "source": [
        "# @title\n",
        "df['lem'] = df['text'].apply(lemm_mystem)\n",
        "# или лучше:\n",
        "df['lem'] = df['text'].apply(lambda x: ' '.join(lemm_mystem(x)))\n",
        "df"
      ],
      "metadata": {
        "id": "liIfWONtoj_S",
        "cellView": "form"
      },
      "execution_count": null,
      "outputs": []
    },
    {
      "cell_type": "code",
      "source": [
        "# @title\n",
        "df[df['result'] == 'neutral']"
      ],
      "metadata": {
        "id": "eiaUkx2moj8p",
        "cellView": "form"
      },
      "execution_count": null,
      "outputs": []
    },
    {
      "cell_type": "markdown",
      "source": [
        "\n",
        "Обратное действие: есть датафрейм, соберите из него текст:\n",
        "- в список строк ```столбец.to_list()```\n",
        "- в одну строку"
      ],
      "metadata": {
        "id": "BuLq9VN4Xtpd"
      }
    },
    {
      "cell_type": "code",
      "source": [],
      "metadata": {
        "id": "CTKsU5FqtyFX"
      },
      "execution_count": null,
      "outputs": []
    },
    {
      "cell_type": "code",
      "source": [],
      "metadata": {
        "id": "HZogtsr5tyDE"
      },
      "execution_count": null,
      "outputs": []
    },
    {
      "cell_type": "markdown",
      "source": [
        "Возможное решение"
      ],
      "metadata": {
        "id": "_8osUesvqaHf"
      }
    },
    {
      "cell_type": "code",
      "source": [
        "# @title\n",
        "df['Отрывок'].to_list()"
      ],
      "metadata": {
        "id": "-PgoRgfDqbvE",
        "cellView": "form"
      },
      "execution_count": null,
      "outputs": []
    },
    {
      "cell_type": "code",
      "source": [
        "# @title\n",
        "'\\n'.join(df['Отрывок'].to_list())"
      ],
      "metadata": {
        "id": "oDKQtT5fqmkV",
        "cellView": "form"
      },
      "execution_count": null,
      "outputs": []
    }
  ]
}